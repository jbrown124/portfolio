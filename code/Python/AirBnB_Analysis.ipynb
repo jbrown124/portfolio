{
 "cells": [
  {
   "cell_type": "code",
   "execution_count": 1,
   "id": "126fe174-e459-4ef2-990f-c3fcf4b5de80",
   "metadata": {},
   "outputs": [],
   "source": [
    "import pandas as pd\n",
    "import numpy as np\n",
    "import matplotlib.pyplot as plt\n",
    "import seaborn as sb\n",
    "import statsmodels.api as sm"
   ]
  },
  {
   "cell_type": "code",
   "execution_count": 2,
   "id": "5e404205-db73-45e7-8903-b8eb37297a0b",
   "metadata": {},
   "outputs": [],
   "source": [
    "df = pd.read_csv(\"AB_NYC_2019.csv\")"
   ]
  },
  {
   "cell_type": "code",
   "execution_count": 3,
   "id": "d646dc80-8759-4ccb-8146-17e6e1eac154",
   "metadata": {},
   "outputs": [
    {
     "data": {
      "text/html": [
       "<div>\n",
       "<style scoped>\n",
       "    .dataframe tbody tr th:only-of-type {\n",
       "        vertical-align: middle;\n",
       "    }\n",
       "\n",
       "    .dataframe tbody tr th {\n",
       "        vertical-align: top;\n",
       "    }\n",
       "\n",
       "    .dataframe thead th {\n",
       "        text-align: right;\n",
       "    }\n",
       "</style>\n",
       "<table border=\"1\" class=\"dataframe\">\n",
       "  <thead>\n",
       "    <tr style=\"text-align: right;\">\n",
       "      <th></th>\n",
       "      <th>id</th>\n",
       "      <th>name</th>\n",
       "      <th>host_id</th>\n",
       "      <th>host_name</th>\n",
       "      <th>neighbourhood_group</th>\n",
       "      <th>neighbourhood</th>\n",
       "      <th>latitude</th>\n",
       "      <th>longitude</th>\n",
       "      <th>room_type</th>\n",
       "      <th>price</th>\n",
       "      <th>minimum_nights</th>\n",
       "      <th>number_of_reviews</th>\n",
       "      <th>last_review</th>\n",
       "      <th>reviews_per_month</th>\n",
       "      <th>calculated_host_listings_count</th>\n",
       "      <th>availability_365</th>\n",
       "    </tr>\n",
       "  </thead>\n",
       "  <tbody>\n",
       "    <tr>\n",
       "      <th>0</th>\n",
       "      <td>2539</td>\n",
       "      <td>Clean &amp; quiet apt home by the park</td>\n",
       "      <td>2787</td>\n",
       "      <td>John</td>\n",
       "      <td>Brooklyn</td>\n",
       "      <td>Kensington</td>\n",
       "      <td>40.64749</td>\n",
       "      <td>-73.97237</td>\n",
       "      <td>Private room</td>\n",
       "      <td>149</td>\n",
       "      <td>1</td>\n",
       "      <td>9</td>\n",
       "      <td>2018-10-19</td>\n",
       "      <td>0.21</td>\n",
       "      <td>6</td>\n",
       "      <td>365</td>\n",
       "    </tr>\n",
       "    <tr>\n",
       "      <th>1</th>\n",
       "      <td>2595</td>\n",
       "      <td>Skylit Midtown Castle</td>\n",
       "      <td>2845</td>\n",
       "      <td>Jennifer</td>\n",
       "      <td>Manhattan</td>\n",
       "      <td>Midtown</td>\n",
       "      <td>40.75362</td>\n",
       "      <td>-73.98377</td>\n",
       "      <td>Entire home/apt</td>\n",
       "      <td>225</td>\n",
       "      <td>1</td>\n",
       "      <td>45</td>\n",
       "      <td>2019-05-21</td>\n",
       "      <td>0.38</td>\n",
       "      <td>2</td>\n",
       "      <td>355</td>\n",
       "    </tr>\n",
       "    <tr>\n",
       "      <th>2</th>\n",
       "      <td>3647</td>\n",
       "      <td>THE VILLAGE OF HARLEM....NEW YORK !</td>\n",
       "      <td>4632</td>\n",
       "      <td>Elisabeth</td>\n",
       "      <td>Manhattan</td>\n",
       "      <td>Harlem</td>\n",
       "      <td>40.80902</td>\n",
       "      <td>-73.94190</td>\n",
       "      <td>Private room</td>\n",
       "      <td>150</td>\n",
       "      <td>3</td>\n",
       "      <td>0</td>\n",
       "      <td>NaN</td>\n",
       "      <td>NaN</td>\n",
       "      <td>1</td>\n",
       "      <td>365</td>\n",
       "    </tr>\n",
       "    <tr>\n",
       "      <th>3</th>\n",
       "      <td>3831</td>\n",
       "      <td>Cozy Entire Floor of Brownstone</td>\n",
       "      <td>4869</td>\n",
       "      <td>LisaRoxanne</td>\n",
       "      <td>Brooklyn</td>\n",
       "      <td>Clinton Hill</td>\n",
       "      <td>40.68514</td>\n",
       "      <td>-73.95976</td>\n",
       "      <td>Entire home/apt</td>\n",
       "      <td>89</td>\n",
       "      <td>1</td>\n",
       "      <td>270</td>\n",
       "      <td>2019-07-05</td>\n",
       "      <td>4.64</td>\n",
       "      <td>1</td>\n",
       "      <td>194</td>\n",
       "    </tr>\n",
       "  </tbody>\n",
       "</table>\n",
       "</div>"
      ],
      "text/plain": [
       "     id                                 name  host_id    host_name  \\\n",
       "0  2539   Clean & quiet apt home by the park     2787         John   \n",
       "1  2595                Skylit Midtown Castle     2845     Jennifer   \n",
       "2  3647  THE VILLAGE OF HARLEM....NEW YORK !     4632    Elisabeth   \n",
       "3  3831      Cozy Entire Floor of Brownstone     4869  LisaRoxanne   \n",
       "\n",
       "  neighbourhood_group neighbourhood  latitude  longitude        room_type  \\\n",
       "0            Brooklyn    Kensington  40.64749  -73.97237     Private room   \n",
       "1           Manhattan       Midtown  40.75362  -73.98377  Entire home/apt   \n",
       "2           Manhattan        Harlem  40.80902  -73.94190     Private room   \n",
       "3            Brooklyn  Clinton Hill  40.68514  -73.95976  Entire home/apt   \n",
       "\n",
       "   price  minimum_nights  number_of_reviews last_review  reviews_per_month  \\\n",
       "0    149               1                  9  2018-10-19               0.21   \n",
       "1    225               1                 45  2019-05-21               0.38   \n",
       "2    150               3                  0         NaN                NaN   \n",
       "3     89               1                270  2019-07-05               4.64   \n",
       "\n",
       "   calculated_host_listings_count  availability_365  \n",
       "0                               6               365  \n",
       "1                               2               355  \n",
       "2                               1               365  \n",
       "3                               1               194  "
      ]
     },
     "execution_count": 3,
     "metadata": {},
     "output_type": "execute_result"
    }
   ],
   "source": [
    "df.head(4)"
   ]
  },
  {
   "cell_type": "code",
   "execution_count": 4,
   "id": "408f7b02-1ac9-4461-a304-e2d5d8cb21e8",
   "metadata": {},
   "outputs": [
    {
     "name": "stdout",
     "output_type": "stream",
     "text": [
      "There are 48895 rows and 16 columns.\n"
     ]
    }
   ],
   "source": [
    "print(\"There are \" + str(df.shape[0]) + \" rows and \" + str(df.shape[1]) + \" columns.\")"
   ]
  },
  {
   "cell_type": "code",
   "execution_count": 5,
   "id": "8bb3eef9-5736-40e7-a0e0-955263cd838a",
   "metadata": {},
   "outputs": [
    {
     "name": "stdout",
     "output_type": "stream",
     "text": [
      "There are 0 duplicated rows\n"
     ]
    }
   ],
   "source": [
    "#checking for duplicate rows\n",
    "duplicates = df.duplicated().sum()\n",
    "print(\"There are {} duplicated rows\".format(duplicates))"
   ]
  },
  {
   "cell_type": "code",
   "execution_count": 6,
   "id": "780826c4-064d-4b1d-b083-e24e2460527b",
   "metadata": {},
   "outputs": [
    {
     "name": "stdout",
     "output_type": "stream",
     "text": [
      "There are 10074 rows with at least one missing value in this dataset.\n",
      "This means 20.6% of the data is incomplete to some extent.\n"
     ]
    }
   ],
   "source": [
    "#Number of rows with missing values\n",
    "NA_rows = df.isnull().any(axis = 1).sum() \n",
    "percent_missing = round((NA_rows/df.shape[0]) * 100, 2)\n",
    "print(\n",
    "    \"There are {} rows with at least one missing value in this dataset.\\nThis means {}% of the data is incomplete to some extent.\"\n",
    "    .format(NA_rows, percent_missing))"
   ]
  },
  {
   "cell_type": "code",
   "execution_count": 7,
   "id": "b6080718-1c40-4dbf-adde-30c63cea41e8",
   "metadata": {},
   "outputs": [
    {
     "data": {
      "text/plain": [
       "id                                    0\n",
       "name                                 16\n",
       "host_id                               0\n",
       "host_name                            21\n",
       "neighbourhood_group                   0\n",
       "neighbourhood                         0\n",
       "latitude                              0\n",
       "longitude                             0\n",
       "room_type                             0\n",
       "price                                 0\n",
       "minimum_nights                        0\n",
       "number_of_reviews                     0\n",
       "last_review                       10052\n",
       "reviews_per_month                 10052\n",
       "calculated_host_listings_count        0\n",
       "availability_365                      0\n",
       "dtype: int64"
      ]
     },
     "execution_count": 7,
     "metadata": {},
     "output_type": "execute_result"
    }
   ],
   "source": [
    "#number of missing entries per columnn\n",
    "df.isnull().sum()"
   ]
  },
  {
   "cell_type": "code",
   "execution_count": 8,
   "id": "b6b45f42-4c20-4a9f-91a8-74646008a285",
   "metadata": {},
   "outputs": [
    {
     "data": {
      "text/html": [
       "<div>\n",
       "<style scoped>\n",
       "    .dataframe tbody tr th:only-of-type {\n",
       "        vertical-align: middle;\n",
       "    }\n",
       "\n",
       "    .dataframe tbody tr th {\n",
       "        vertical-align: top;\n",
       "    }\n",
       "\n",
       "    .dataframe thead th {\n",
       "        text-align: right;\n",
       "    }\n",
       "</style>\n",
       "<table border=\"1\" class=\"dataframe\">\n",
       "  <thead>\n",
       "    <tr style=\"text-align: right;\">\n",
       "      <th></th>\n",
       "      <th>id</th>\n",
       "      <th>name</th>\n",
       "      <th>host_id</th>\n",
       "      <th>host_name</th>\n",
       "      <th>neighbourhood_group</th>\n",
       "      <th>neighbourhood</th>\n",
       "      <th>latitude</th>\n",
       "      <th>longitude</th>\n",
       "      <th>room_type</th>\n",
       "      <th>price</th>\n",
       "      <th>minimum_nights</th>\n",
       "      <th>number_of_reviews</th>\n",
       "      <th>last_review</th>\n",
       "      <th>reviews_per_month</th>\n",
       "      <th>calculated_host_listings_count</th>\n",
       "      <th>availability_365</th>\n",
       "    </tr>\n",
       "  </thead>\n",
       "  <tbody>\n",
       "    <tr>\n",
       "      <th>2</th>\n",
       "      <td>3647</td>\n",
       "      <td>THE VILLAGE OF HARLEM....NEW YORK !</td>\n",
       "      <td>4632</td>\n",
       "      <td>Elisabeth</td>\n",
       "      <td>Manhattan</td>\n",
       "      <td>Harlem</td>\n",
       "      <td>40.80902</td>\n",
       "      <td>-73.94190</td>\n",
       "      <td>Private room</td>\n",
       "      <td>150</td>\n",
       "      <td>3</td>\n",
       "      <td>0</td>\n",
       "      <td>NaN</td>\n",
       "      <td>NaN</td>\n",
       "      <td>1</td>\n",
       "      <td>365</td>\n",
       "    </tr>\n",
       "    <tr>\n",
       "      <th>19</th>\n",
       "      <td>7750</td>\n",
       "      <td>Huge 2 BR Upper East  Cental Park</td>\n",
       "      <td>17985</td>\n",
       "      <td>Sing</td>\n",
       "      <td>Manhattan</td>\n",
       "      <td>East Harlem</td>\n",
       "      <td>40.79685</td>\n",
       "      <td>-73.94872</td>\n",
       "      <td>Entire home/apt</td>\n",
       "      <td>190</td>\n",
       "      <td>7</td>\n",
       "      <td>0</td>\n",
       "      <td>NaN</td>\n",
       "      <td>NaN</td>\n",
       "      <td>2</td>\n",
       "      <td>249</td>\n",
       "    </tr>\n",
       "    <tr>\n",
       "      <th>26</th>\n",
       "      <td>8700</td>\n",
       "      <td>Magnifique Suite au N de Manhattan - vue Cloitres</td>\n",
       "      <td>26394</td>\n",
       "      <td>Claude &amp; Sophie</td>\n",
       "      <td>Manhattan</td>\n",
       "      <td>Inwood</td>\n",
       "      <td>40.86754</td>\n",
       "      <td>-73.92639</td>\n",
       "      <td>Private room</td>\n",
       "      <td>80</td>\n",
       "      <td>4</td>\n",
       "      <td>0</td>\n",
       "      <td>NaN</td>\n",
       "      <td>NaN</td>\n",
       "      <td>1</td>\n",
       "      <td>0</td>\n",
       "    </tr>\n",
       "  </tbody>\n",
       "</table>\n",
       "</div>"
      ],
      "text/plain": [
       "      id                                               name  host_id  \\\n",
       "2   3647                THE VILLAGE OF HARLEM....NEW YORK !     4632   \n",
       "19  7750                  Huge 2 BR Upper East  Cental Park    17985   \n",
       "26  8700  Magnifique Suite au N de Manhattan - vue Cloitres    26394   \n",
       "\n",
       "          host_name neighbourhood_group neighbourhood  latitude  longitude  \\\n",
       "2         Elisabeth           Manhattan        Harlem  40.80902  -73.94190   \n",
       "19             Sing           Manhattan   East Harlem  40.79685  -73.94872   \n",
       "26  Claude & Sophie           Manhattan        Inwood  40.86754  -73.92639   \n",
       "\n",
       "          room_type  price  minimum_nights  number_of_reviews last_review  \\\n",
       "2      Private room    150               3                  0         NaN   \n",
       "19  Entire home/apt    190               7                  0         NaN   \n",
       "26     Private room     80               4                  0         NaN   \n",
       "\n",
       "    reviews_per_month  calculated_host_listings_count  availability_365  \n",
       "2                 NaN                               1               365  \n",
       "19                NaN                               2               249  \n",
       "26                NaN                               1                 0  "
      ]
     },
     "execution_count": 8,
     "metadata": {},
     "output_type": "execute_result"
    }
   ],
   "source": [
    "#checking for pattern in rows with missing last_review and reviews_per_month\n",
    "df[(df[\"last_review\"].isnull() == True)].head(3)"
   ]
  },
  {
   "cell_type": "markdown",
   "id": "464fa94e-c3cf-4a10-831a-fe825f47c872",
   "metadata": {},
   "source": [
    "last_review and reviews_per_month are both missing in 10,052 rows. Further analysis shows that the last_review and review_per_month columns are null for listings where the number_of_reviews is 0. These rows should not be dropped from the dataset because the listings without reviews represent the less popular AirBnBs. "
   ]
  },
  {
   "cell_type": "code",
   "execution_count": 10,
   "id": "8f95d5b2-3950-41f1-a547-172cdf66b776",
   "metadata": {},
   "outputs": [
    {
     "data": {
      "text/html": [
       "<div>\n",
       "<style scoped>\n",
       "    .dataframe tbody tr th:only-of-type {\n",
       "        vertical-align: middle;\n",
       "    }\n",
       "\n",
       "    .dataframe tbody tr th {\n",
       "        vertical-align: top;\n",
       "    }\n",
       "\n",
       "    .dataframe thead th {\n",
       "        text-align: right;\n",
       "    }\n",
       "</style>\n",
       "<table border=\"1\" class=\"dataframe\">\n",
       "  <thead>\n",
       "    <tr style=\"text-align: right;\">\n",
       "      <th></th>\n",
       "      <th>id</th>\n",
       "      <th>name</th>\n",
       "      <th>host_id</th>\n",
       "      <th>host_name</th>\n",
       "      <th>neighbourhood_group</th>\n",
       "      <th>neighbourhood</th>\n",
       "      <th>latitude</th>\n",
       "      <th>longitude</th>\n",
       "      <th>room_type</th>\n",
       "      <th>price</th>\n",
       "      <th>minimum_nights</th>\n",
       "      <th>number_of_reviews</th>\n",
       "      <th>last_review</th>\n",
       "      <th>reviews_per_month</th>\n",
       "      <th>calculated_host_listings_count</th>\n",
       "      <th>availability_365</th>\n",
       "    </tr>\n",
       "  </thead>\n",
       "  <tbody>\n",
       "    <tr>\n",
       "      <th>2854</th>\n",
       "      <td>1615764</td>\n",
       "      <td>NaN</td>\n",
       "      <td>6676776</td>\n",
       "      <td>Peter</td>\n",
       "      <td>Manhattan</td>\n",
       "      <td>Battery Park City</td>\n",
       "      <td>40.71239</td>\n",
       "      <td>-74.01620</td>\n",
       "      <td>Entire home/apt</td>\n",
       "      <td>400</td>\n",
       "      <td>1000</td>\n",
       "      <td>0</td>\n",
       "      <td>NaN</td>\n",
       "      <td>NaN</td>\n",
       "      <td>1</td>\n",
       "      <td>362</td>\n",
       "    </tr>\n",
       "    <tr>\n",
       "      <th>3703</th>\n",
       "      <td>2232600</td>\n",
       "      <td>NaN</td>\n",
       "      <td>11395220</td>\n",
       "      <td>Anna</td>\n",
       "      <td>Manhattan</td>\n",
       "      <td>East Village</td>\n",
       "      <td>40.73215</td>\n",
       "      <td>-73.98821</td>\n",
       "      <td>Entire home/apt</td>\n",
       "      <td>200</td>\n",
       "      <td>1</td>\n",
       "      <td>28</td>\n",
       "      <td>2015-06-08</td>\n",
       "      <td>0.45</td>\n",
       "      <td>1</td>\n",
       "      <td>341</td>\n",
       "    </tr>\n",
       "    <tr>\n",
       "      <th>5775</th>\n",
       "      <td>4209595</td>\n",
       "      <td>NaN</td>\n",
       "      <td>20700823</td>\n",
       "      <td>Jesse</td>\n",
       "      <td>Manhattan</td>\n",
       "      <td>Greenwich Village</td>\n",
       "      <td>40.73473</td>\n",
       "      <td>-73.99244</td>\n",
       "      <td>Entire home/apt</td>\n",
       "      <td>225</td>\n",
       "      <td>1</td>\n",
       "      <td>1</td>\n",
       "      <td>2015-01-01</td>\n",
       "      <td>0.02</td>\n",
       "      <td>1</td>\n",
       "      <td>0</td>\n",
       "    </tr>\n",
       "  </tbody>\n",
       "</table>\n",
       "</div>"
      ],
      "text/plain": [
       "           id name   host_id host_name neighbourhood_group      neighbourhood  \\\n",
       "2854  1615764  NaN   6676776     Peter           Manhattan  Battery Park City   \n",
       "3703  2232600  NaN  11395220      Anna           Manhattan       East Village   \n",
       "5775  4209595  NaN  20700823     Jesse           Manhattan  Greenwich Village   \n",
       "\n",
       "      latitude  longitude        room_type  price  minimum_nights  \\\n",
       "2854  40.71239  -74.01620  Entire home/apt    400            1000   \n",
       "3703  40.73215  -73.98821  Entire home/apt    200               1   \n",
       "5775  40.73473  -73.99244  Entire home/apt    225               1   \n",
       "\n",
       "      number_of_reviews last_review  reviews_per_month  \\\n",
       "2854                  0         NaN                NaN   \n",
       "3703                 28  2015-06-08               0.45   \n",
       "5775                  1  2015-01-01               0.02   \n",
       "\n",
       "      calculated_host_listings_count  availability_365  \n",
       "2854                               1               362  \n",
       "3703                               1               341  \n",
       "5775                               1                 0  "
      ]
     },
     "execution_count": 10,
     "metadata": {},
     "output_type": "execute_result"
    }
   ],
   "source": [
    "#checking for patterns in rows missing the listing name.\n",
    "df[(df[\"name\"].isnull() == True)].head(3)"
   ]
  },
  {
   "cell_type": "code",
   "execution_count": 11,
   "id": "e47a5199-56b4-4297-83b6-ab8b7f17af4f",
   "metadata": {},
   "outputs": [
    {
     "data": {
      "text/html": [
       "<div>\n",
       "<style scoped>\n",
       "    .dataframe tbody tr th:only-of-type {\n",
       "        vertical-align: middle;\n",
       "    }\n",
       "\n",
       "    .dataframe tbody tr th {\n",
       "        vertical-align: top;\n",
       "    }\n",
       "\n",
       "    .dataframe thead th {\n",
       "        text-align: right;\n",
       "    }\n",
       "</style>\n",
       "<table border=\"1\" class=\"dataframe\">\n",
       "  <thead>\n",
       "    <tr style=\"text-align: right;\">\n",
       "      <th></th>\n",
       "      <th>id</th>\n",
       "      <th>name</th>\n",
       "      <th>host_id</th>\n",
       "      <th>host_name</th>\n",
       "      <th>neighbourhood_group</th>\n",
       "      <th>neighbourhood</th>\n",
       "      <th>latitude</th>\n",
       "      <th>longitude</th>\n",
       "      <th>room_type</th>\n",
       "      <th>price</th>\n",
       "      <th>minimum_nights</th>\n",
       "      <th>number_of_reviews</th>\n",
       "      <th>last_review</th>\n",
       "      <th>reviews_per_month</th>\n",
       "      <th>calculated_host_listings_count</th>\n",
       "      <th>availability_365</th>\n",
       "    </tr>\n",
       "  </thead>\n",
       "  <tbody>\n",
       "    <tr>\n",
       "      <th>360</th>\n",
       "      <td>100184</td>\n",
       "      <td>Bienvenue</td>\n",
       "      <td>526653</td>\n",
       "      <td>NaN</td>\n",
       "      <td>Queens</td>\n",
       "      <td>Queens Village</td>\n",
       "      <td>40.72413</td>\n",
       "      <td>-73.76133</td>\n",
       "      <td>Private room</td>\n",
       "      <td>50</td>\n",
       "      <td>1</td>\n",
       "      <td>43</td>\n",
       "      <td>2019-07-08</td>\n",
       "      <td>0.45</td>\n",
       "      <td>1</td>\n",
       "      <td>88</td>\n",
       "    </tr>\n",
       "    <tr>\n",
       "      <th>2700</th>\n",
       "      <td>1449546</td>\n",
       "      <td>Cozy Studio in Flatbush</td>\n",
       "      <td>7779204</td>\n",
       "      <td>NaN</td>\n",
       "      <td>Brooklyn</td>\n",
       "      <td>Flatbush</td>\n",
       "      <td>40.64965</td>\n",
       "      <td>-73.96154</td>\n",
       "      <td>Entire home/apt</td>\n",
       "      <td>100</td>\n",
       "      <td>30</td>\n",
       "      <td>49</td>\n",
       "      <td>2017-01-02</td>\n",
       "      <td>0.69</td>\n",
       "      <td>1</td>\n",
       "      <td>342</td>\n",
       "    </tr>\n",
       "    <tr>\n",
       "      <th>5745</th>\n",
       "      <td>4183989</td>\n",
       "      <td>SPRING in the City!! Zen-Style Tranquil Bedroom</td>\n",
       "      <td>919218</td>\n",
       "      <td>NaN</td>\n",
       "      <td>Manhattan</td>\n",
       "      <td>Harlem</td>\n",
       "      <td>40.80606</td>\n",
       "      <td>-73.95061</td>\n",
       "      <td>Private room</td>\n",
       "      <td>86</td>\n",
       "      <td>3</td>\n",
       "      <td>34</td>\n",
       "      <td>2019-05-23</td>\n",
       "      <td>1.00</td>\n",
       "      <td>1</td>\n",
       "      <td>359</td>\n",
       "    </tr>\n",
       "  </tbody>\n",
       "</table>\n",
       "</div>"
      ],
      "text/plain": [
       "           id                                             name  host_id  \\\n",
       "360    100184                                        Bienvenue   526653   \n",
       "2700  1449546                          Cozy Studio in Flatbush  7779204   \n",
       "5745  4183989  SPRING in the City!! Zen-Style Tranquil Bedroom   919218   \n",
       "\n",
       "     host_name neighbourhood_group   neighbourhood  latitude  longitude  \\\n",
       "360        NaN              Queens  Queens Village  40.72413  -73.76133   \n",
       "2700       NaN            Brooklyn        Flatbush  40.64965  -73.96154   \n",
       "5745       NaN           Manhattan          Harlem  40.80606  -73.95061   \n",
       "\n",
       "            room_type  price  minimum_nights  number_of_reviews last_review  \\\n",
       "360      Private room     50               1                 43  2019-07-08   \n",
       "2700  Entire home/apt    100              30                 49  2017-01-02   \n",
       "5745     Private room     86               3                 34  2019-05-23   \n",
       "\n",
       "      reviews_per_month  calculated_host_listings_count  availability_365  \n",
       "360                0.45                               1                88  \n",
       "2700               0.69                               1               342  \n",
       "5745               1.00                               1               359  "
      ]
     },
     "execution_count": 11,
     "metadata": {},
     "output_type": "execute_result"
    }
   ],
   "source": [
    "#checking for patterns in rows missing the host name\n",
    "df[(df[\"host_name\"].isnull() == True)].head(3)"
   ]
  },
  {
   "cell_type": "markdown",
   "id": "6124b2fa-87a4-4b05-941f-7a992eb819b9",
   "metadata": {},
   "source": [
    "There doesn't appear to be any concerning trend in the rows missing the listing name or host name, so these rows don't need to be dropped from the dataset."
   ]
  },
  {
   "cell_type": "code",
   "execution_count": 13,
   "id": "d53f9d68-8632-4bb1-933d-4b3644118c59",
   "metadata": {},
   "outputs": [],
   "source": [
    "# Creating column \"name_length\" that shows the length of a listing\n",
    "df[\"name_length\"] = df[\"name\"].astype(str) \n",
    "df[\"name_length\"] = df[\"name_length\"].str.split().str.len()"
   ]
  },
  {
   "cell_type": "code",
   "execution_count": 14,
   "id": "f29d4533-386e-413e-973f-db2d5ea5d55b",
   "metadata": {},
   "outputs": [],
   "source": [
    "# Making name_length 0 where the listing name is missing\n",
    "df['name_length'] = np.where((df['name'].isnull() == True), 0, df['name_length']) "
   ]
  },
  {
   "cell_type": "code",
   "execution_count": 15,
   "id": "fceea2f5-5015-4bc1-9963-61bbfe0d8077",
   "metadata": {},
   "outputs": [
    {
     "data": {
      "text/html": [
       "<div>\n",
       "<style scoped>\n",
       "    .dataframe tbody tr th:only-of-type {\n",
       "        vertical-align: middle;\n",
       "    }\n",
       "\n",
       "    .dataframe tbody tr th {\n",
       "        vertical-align: top;\n",
       "    }\n",
       "\n",
       "    .dataframe thead th {\n",
       "        text-align: right;\n",
       "    }\n",
       "</style>\n",
       "<table border=\"1\" class=\"dataframe\">\n",
       "  <thead>\n",
       "    <tr style=\"text-align: right;\">\n",
       "      <th></th>\n",
       "      <th>latitude</th>\n",
       "      <th>longitude</th>\n",
       "      <th>price</th>\n",
       "      <th>minimum_nights</th>\n",
       "      <th>number_of_reviews</th>\n",
       "      <th>reviews_per_month</th>\n",
       "      <th>calculated_host_listings_count</th>\n",
       "      <th>availability_365</th>\n",
       "      <th>name_length</th>\n",
       "    </tr>\n",
       "  </thead>\n",
       "  <tbody>\n",
       "    <tr>\n",
       "      <th>count</th>\n",
       "      <td>48895.000000</td>\n",
       "      <td>48895.000000</td>\n",
       "      <td>48895.000000</td>\n",
       "      <td>48895.000000</td>\n",
       "      <td>48895.000000</td>\n",
       "      <td>38843.000000</td>\n",
       "      <td>48895.000000</td>\n",
       "      <td>48895.000000</td>\n",
       "      <td>48895.000000</td>\n",
       "    </tr>\n",
       "    <tr>\n",
       "      <th>mean</th>\n",
       "      <td>40.728949</td>\n",
       "      <td>-73.952170</td>\n",
       "      <td>152.720687</td>\n",
       "      <td>7.029962</td>\n",
       "      <td>23.274466</td>\n",
       "      <td>1.373221</td>\n",
       "      <td>7.143982</td>\n",
       "      <td>112.781327</td>\n",
       "      <td>6.107393</td>\n",
       "    </tr>\n",
       "    <tr>\n",
       "      <th>std</th>\n",
       "      <td>0.054530</td>\n",
       "      <td>0.046157</td>\n",
       "      <td>240.154170</td>\n",
       "      <td>20.510550</td>\n",
       "      <td>44.550582</td>\n",
       "      <td>1.680442</td>\n",
       "      <td>32.952519</td>\n",
       "      <td>131.622289</td>\n",
       "      <td>2.021387</td>\n",
       "    </tr>\n",
       "    <tr>\n",
       "      <th>min</th>\n",
       "      <td>40.499790</td>\n",
       "      <td>-74.244420</td>\n",
       "      <td>0.000000</td>\n",
       "      <td>1.000000</td>\n",
       "      <td>0.000000</td>\n",
       "      <td>0.010000</td>\n",
       "      <td>1.000000</td>\n",
       "      <td>0.000000</td>\n",
       "      <td>0.000000</td>\n",
       "    </tr>\n",
       "    <tr>\n",
       "      <th>25%</th>\n",
       "      <td>40.690100</td>\n",
       "      <td>-73.983070</td>\n",
       "      <td>69.000000</td>\n",
       "      <td>1.000000</td>\n",
       "      <td>1.000000</td>\n",
       "      <td>0.190000</td>\n",
       "      <td>1.000000</td>\n",
       "      <td>0.000000</td>\n",
       "      <td>5.000000</td>\n",
       "    </tr>\n",
       "    <tr>\n",
       "      <th>50%</th>\n",
       "      <td>40.723070</td>\n",
       "      <td>-73.955680</td>\n",
       "      <td>106.000000</td>\n",
       "      <td>3.000000</td>\n",
       "      <td>5.000000</td>\n",
       "      <td>0.720000</td>\n",
       "      <td>1.000000</td>\n",
       "      <td>45.000000</td>\n",
       "      <td>6.000000</td>\n",
       "    </tr>\n",
       "    <tr>\n",
       "      <th>75%</th>\n",
       "      <td>40.763115</td>\n",
       "      <td>-73.936275</td>\n",
       "      <td>175.000000</td>\n",
       "      <td>5.000000</td>\n",
       "      <td>24.000000</td>\n",
       "      <td>2.020000</td>\n",
       "      <td>2.000000</td>\n",
       "      <td>227.000000</td>\n",
       "      <td>7.000000</td>\n",
       "    </tr>\n",
       "    <tr>\n",
       "      <th>max</th>\n",
       "      <td>40.913060</td>\n",
       "      <td>-73.712990</td>\n",
       "      <td>10000.000000</td>\n",
       "      <td>1250.000000</td>\n",
       "      <td>629.000000</td>\n",
       "      <td>58.500000</td>\n",
       "      <td>327.000000</td>\n",
       "      <td>365.000000</td>\n",
       "      <td>29.000000</td>\n",
       "    </tr>\n",
       "  </tbody>\n",
       "</table>\n",
       "</div>"
      ],
      "text/plain": [
       "           latitude     longitude         price  minimum_nights  \\\n",
       "count  48895.000000  48895.000000  48895.000000    48895.000000   \n",
       "mean      40.728949    -73.952170    152.720687        7.029962   \n",
       "std        0.054530      0.046157    240.154170       20.510550   \n",
       "min       40.499790    -74.244420      0.000000        1.000000   \n",
       "25%       40.690100    -73.983070     69.000000        1.000000   \n",
       "50%       40.723070    -73.955680    106.000000        3.000000   \n",
       "75%       40.763115    -73.936275    175.000000        5.000000   \n",
       "max       40.913060    -73.712990  10000.000000     1250.000000   \n",
       "\n",
       "       number_of_reviews  reviews_per_month  calculated_host_listings_count  \\\n",
       "count       48895.000000       38843.000000                    48895.000000   \n",
       "mean           23.274466           1.373221                        7.143982   \n",
       "std            44.550582           1.680442                       32.952519   \n",
       "min             0.000000           0.010000                        1.000000   \n",
       "25%             1.000000           0.190000                        1.000000   \n",
       "50%             5.000000           0.720000                        1.000000   \n",
       "75%            24.000000           2.020000                        2.000000   \n",
       "max           629.000000          58.500000                      327.000000   \n",
       "\n",
       "       availability_365   name_length  \n",
       "count      48895.000000  48895.000000  \n",
       "mean         112.781327      6.107393  \n",
       "std          131.622289      2.021387  \n",
       "min            0.000000      0.000000  \n",
       "25%            0.000000      5.000000  \n",
       "50%           45.000000      6.000000  \n",
       "75%          227.000000      7.000000  \n",
       "max          365.000000     29.000000  "
      ]
     },
     "execution_count": 15,
     "metadata": {},
     "output_type": "execute_result"
    }
   ],
   "source": [
    "#Summary for quanititative columns excluding id and host_id columns\n",
    "df.loc[:, (df.columns != 'id') & (df.columns != 'host_id')].describe()"
   ]
  },
  {
   "cell_type": "code",
   "execution_count": 16,
   "id": "39f86913-f116-47d1-8557-09e1bc6c76a8",
   "metadata": {},
   "outputs": [
    {
     "data": {
      "text/plain": [
       "11"
      ]
     },
     "execution_count": 16,
     "metadata": {},
     "output_type": "execute_result"
    }
   ],
   "source": [
    "(df[\"price\"] == 0).sum()"
   ]
  },
  {
   "cell_type": "markdown",
   "id": "a381806e-2ea7-486e-85bf-73a2efb2b840",
   "metadata": {},
   "source": [
    "Since free AirBnBs listings seem unlikely, it's a bit interesting that the minimum price is 0. There are 11 rows where the price is listed as 0, so this may be a data entry error or missing data."
   ]
  },
  {
   "cell_type": "code",
   "execution_count": 18,
   "id": "d2a2a5a5-c257-433e-9a1a-68f6f19c59ec",
   "metadata": {},
   "outputs": [
    {
     "data": {
      "text/plain": [
       "15.0"
      ]
     },
     "execution_count": 18,
     "metadata": {},
     "output_type": "execute_result"
    }
   ],
   "source": [
    "#Percentage of listing that have a minimum stay requirement of more than 7 days\n",
    "round(((df[\"minimum_nights\"]>7).sum()/df.shape[0]) * 100 ,2)"
   ]
  },
  {
   "cell_type": "code",
   "execution_count": 19,
   "id": "d9f999ae-6d23-47dc-ba8d-851a113c3161",
   "metadata": {},
   "outputs": [
    {
     "data": {
      "text/plain": [
       "0.09"
      ]
     },
     "execution_count": 19,
     "metadata": {},
     "output_type": "execute_result"
    }
   ],
   "source": [
    "#Percentage of listing that require you to stay for at least a year\n",
    "round(((df[\"minimum_nights\"]>=365).sum()/df.shape[0]) * 100 ,2)"
   ]
  },
  {
   "cell_type": "code",
   "execution_count": 20,
   "id": "2bf83d26-3aed-427e-9736-565432b9bc33",
   "metadata": {},
   "outputs": [
    {
     "data": {
      "text/plain": [
       "array(['Brooklyn', 'Manhattan', 'Queens', 'Staten Island', 'Bronx'],\n",
       "      dtype=object)"
      ]
     },
     "execution_count": 20,
     "metadata": {},
     "output_type": "execute_result"
    }
   ],
   "source": [
    "#Number of Neighbourhood groups and their names\n",
    "df[\"neighbourhood_group\"].unique()"
   ]
  },
  {
   "cell_type": "code",
   "execution_count": 21,
   "id": "9b5f2347-fbc2-4f55-839a-a9374156c31a",
   "metadata": {},
   "outputs": [
    {
     "data": {
      "text/plain": [
       "array(['Private room', 'Entire home/apt', 'Shared room'], dtype=object)"
      ]
     },
     "execution_count": 21,
     "metadata": {},
     "output_type": "execute_result"
    }
   ],
   "source": [
    "#Number of room types and their names\n",
    "df[\"room_type\"].unique()"
   ]
  },
  {
   "cell_type": "code",
   "execution_count": 22,
   "id": "6dc71443-c6a9-4d4d-bb63-bbbdfda8487d",
   "metadata": {},
   "outputs": [
    {
     "data": {
      "text/plain": [
       "neighbourhood_group\n",
       "Bronx             1091\n",
       "Brooklyn         20104\n",
       "Manhattan        21661\n",
       "Queens            5666\n",
       "Staten Island      373\n",
       "Name: id, dtype: int64"
      ]
     },
     "execution_count": 22,
     "metadata": {},
     "output_type": "execute_result"
    }
   ],
   "source": [
    "#Number of AirBnB listings for each neighbourhood\n",
    "df[\"id\"].groupby(df[\"neighbourhood_group\"]).count()"
   ]
  },
  {
   "cell_type": "code",
   "execution_count": 23,
   "id": "a519e583-c747-4329-aa58-9c5fe29c43fc",
   "metadata": {},
   "outputs": [
    {
     "data": {
      "text/plain": [
       "neighbourhood_group\n",
       "Bronx             87.496792\n",
       "Brooklyn         124.383207\n",
       "Manhattan        196.875814\n",
       "Queens            99.517649\n",
       "Staten Island    114.812332\n",
       "Name: price, dtype: float64"
      ]
     },
     "execution_count": 23,
     "metadata": {},
     "output_type": "execute_result"
    }
   ],
   "source": [
    "#Average price for neighbourhood groups\n",
    "avg_prices = df[\"price\"].groupby(df[\"neighbourhood_group\"]).mean()\n",
    "avg_prices"
   ]
  },
  {
   "cell_type": "code",
   "execution_count": 24,
   "id": "1b99a1fb-78a4-4f08-b152-c81bba312c2e",
   "metadata": {},
   "outputs": [
    {
     "data": {
      "text/plain": [
       "Text(0.5, 1.0, 'Average Room Prices for NYC Neighbourhood Groups ')"
      ]
     },
     "execution_count": 24,
     "metadata": {},
     "output_type": "execute_result"
    },
    {
     "data": {
      "image/png": "[encoded data removed]",
      "text/plain": [
       "<Figure size 640x480 with 1 Axes>"
      ]
     },
     "metadata": {},
     "output_type": "display_data"
    }
   ],
   "source": [
    "sb.barplot(data = df, x = \"neighbourhood_group\", y = \"price\", hue = \"room_type\").set_title(\"Average Room Prices for NYC Neighbourhood Groups \")"
   ]
  },
  {
   "cell_type": "code",
   "execution_count": 25,
   "id": "5e9cff5d-94d6-4f36-83eb-a209a7448a99",
   "metadata": {},
   "outputs": [
    {
     "data": {
      "image/png": "[encoded data removed]",
      "text/plain": [
       "<Figure size 640x480 with 1 Axes>"
      ]
     },
     "metadata": {},
     "output_type": "display_data"
    },
    {
     "data": {
      "text/plain": [
       "<Figure size 640x480 with 0 Axes>"
      ]
     },
     "metadata": {},
     "output_type": "display_data"
    }
   ],
   "source": [
    "plt.hist(data = df, x = \"name_length\", bins = 15)\n",
    "plt.xlabel(\"Length of Listing Name\")\n",
    "plt.ylabel(\"Frequency\")\n",
    "plt.title(\"Distribution of Listing Name Length\")\n",
    "plt.show()\n",
    "plt.clf()"
   ]
  },
  {
   "cell_type": "code",
   "execution_count": 26,
   "id": "96626052-b6f8-4aea-9483-78d7e47070d2",
   "metadata": {},
   "outputs": [
    {
     "data": {
      "text/plain": [
       "221"
      ]
     },
     "execution_count": 26,
     "metadata": {},
     "output_type": "execute_result"
    }
   ],
   "source": [
    "#Number of neighbourhoods\n",
    "len(df[\"neighbourhood\"].unique())"
   ]
  },
  {
   "cell_type": "code",
   "execution_count": 27,
   "id": "96a31be2-b1cf-44ae-8d52-2968ff8bc493",
   "metadata": {},
   "outputs": [
    {
     "data": {
      "text/plain": [
       "neighbourhood_group\n",
       "Bronx            48\n",
       "Brooklyn         47\n",
       "Manhattan        32\n",
       "Queens           51\n",
       "Staten Island    43\n",
       "Name: neighbourhood, dtype: int64"
      ]
     },
     "execution_count": 27,
     "metadata": {},
     "output_type": "execute_result"
    }
   ],
   "source": [
    "#Number of neighbourhoods in each neighbourhood group\n",
    "df[\"neighbourhood\"].groupby(df[\"neighbourhood_group\"]).nunique()"
   ]
  },
  {
   "cell_type": "code",
   "execution_count": 28,
   "id": "a413dbb0-5362-4722-99f9-6c7b7dd01373",
   "metadata": {},
   "outputs": [
    {
     "data": {
      "text/plain": [
       "17533"
      ]
     },
     "execution_count": 28,
     "metadata": {},
     "output_type": "execute_result"
    }
   ],
   "source": [
    "#Number of AirBnBs fully booked for 2019\n",
    "(df[\"availability_365\"] == 0).sum()"
   ]
  },
  {
   "cell_type": "code",
   "execution_count": 29,
   "id": "16345b55-842c-4d89-a321-ff6bb8c02acb",
   "metadata": {},
   "outputs": [
    {
     "data": {
      "text/plain": [
       "[Text(0.5, 1.0, 'Listing Price and Number of Reviews')]"
      ]
     },
     "execution_count": 29,
     "metadata": {},
     "output_type": "execute_result"
    },
    {
     "data": {
      "image/png": "[encoded data removed]",
      "text/plain": [
       "<Figure size 640x480 with 1 Axes>"
      ]
     },
     "metadata": {},
     "output_type": "display_data"
    }
   ],
   "source": [
    "graph = sb.scatterplot(data = df, x = \"number_of_reviews\", y = \"price\")\n",
    "graph.set(xlabel = \"Number of Reviews\")\n",
    "graph.set(ylabel = \"Price\")\n",
    "graph.set(title = \"Listing Price and Number of Reviews\")"
   ]
  },
  {
   "cell_type": "markdown",
   "id": "8026cd28-8315-4ae8-b065-36a5d3a81c80",
   "metadata": {},
   "source": [
    "The number of reviews increases as the price decreases. This is reasonable as cheaper AirBnBs are more accessible and likely have more guests than expensive AirBnBs."
   ]
  },
  {
   "cell_type": "code",
   "execution_count": 31,
   "id": "7b84fc50-1a81-4555-92fd-677fe6bab7c4",
   "metadata": {},
   "outputs": [
    {
     "data": {
      "text/html": [
       "<div>\n",
       "<style scoped>\n",
       "    .dataframe tbody tr th:only-of-type {\n",
       "        vertical-align: middle;\n",
       "    }\n",
       "\n",
       "    .dataframe tbody tr th {\n",
       "        vertical-align: top;\n",
       "    }\n",
       "\n",
       "    .dataframe thead th {\n",
       "        text-align: right;\n",
       "    }\n",
       "</style>\n",
       "<table border=\"1\" class=\"dataframe\">\n",
       "  <thead>\n",
       "    <tr style=\"text-align: right;\">\n",
       "      <th></th>\n",
       "      <th></th>\n",
       "      <th></th>\n",
       "      <th>count_col</th>\n",
       "    </tr>\n",
       "    <tr>\n",
       "      <th>host_id</th>\n",
       "      <th>host_name</th>\n",
       "      <th>neighbourhood_group</th>\n",
       "      <th></th>\n",
       "    </tr>\n",
       "  </thead>\n",
       "  <tbody>\n",
       "    <tr>\n",
       "      <th>219517861</th>\n",
       "      <th>Sonder (NYC)</th>\n",
       "      <th>Manhattan</th>\n",
       "      <td>327</td>\n",
       "    </tr>\n",
       "    <tr>\n",
       "      <th>107434423</th>\n",
       "      <th>Blueground</th>\n",
       "      <th>Manhattan</th>\n",
       "      <td>230</td>\n",
       "    </tr>\n",
       "    <tr>\n",
       "      <th>30283594</th>\n",
       "      <th>Kara</th>\n",
       "      <th>Manhattan</th>\n",
       "      <td>121</td>\n",
       "    </tr>\n",
       "    <tr>\n",
       "      <th>12243051</th>\n",
       "      <th>Sonder</th>\n",
       "      <th>Manhattan</th>\n",
       "      <td>96</td>\n",
       "    </tr>\n",
       "    <tr>\n",
       "      <th>16098958</th>\n",
       "      <th>Jeremy &amp; Laura</th>\n",
       "      <th>Manhattan</th>\n",
       "      <td>96</td>\n",
       "    </tr>\n",
       "    <tr>\n",
       "      <th>61391963</th>\n",
       "      <th>Corporate Housing</th>\n",
       "      <th>Manhattan</th>\n",
       "      <td>91</td>\n",
       "    </tr>\n",
       "    <tr>\n",
       "      <th>22541573</th>\n",
       "      <th>Ken</th>\n",
       "      <th>Manhattan</th>\n",
       "      <td>86</td>\n",
       "    </tr>\n",
       "    <tr>\n",
       "      <th>137358866</th>\n",
       "      <th>Kazuya</th>\n",
       "      <th>Queens</th>\n",
       "      <td>79</td>\n",
       "    </tr>\n",
       "    <tr>\n",
       "      <th>200380610</th>\n",
       "      <th>Pranjal</th>\n",
       "      <th>Manhattan</th>\n",
       "      <td>65</td>\n",
       "    </tr>\n",
       "    <tr>\n",
       "      <th>1475015</th>\n",
       "      <th>Mike</th>\n",
       "      <th>Manhattan</th>\n",
       "      <td>52</td>\n",
       "    </tr>\n",
       "  </tbody>\n",
       "</table>\n",
       "</div>"
      ],
      "text/plain": [
       "                                                 count_col\n",
       "host_id   host_name         neighbourhood_group           \n",
       "219517861 Sonder (NYC)      Manhattan                  327\n",
       "107434423 Blueground        Manhattan                  230\n",
       "30283594  Kara              Manhattan                  121\n",
       "12243051  Sonder            Manhattan                   96\n",
       "16098958  Jeremy & Laura    Manhattan                   96\n",
       "61391963  Corporate Housing Manhattan                   91\n",
       "22541573  Ken               Manhattan                   86\n",
       "137358866 Kazuya            Queens                      79\n",
       "200380610 Pranjal           Manhattan                   65\n",
       "1475015   Mike              Manhattan                   52"
      ]
     },
     "execution_count": 31,
     "metadata": {},
     "output_type": "execute_result"
    }
   ],
   "source": [
    "#2019 10 AirBnB hosts with the most listings in NYC\n",
    "df.groupby([\"host_id\", \"host_name\",\"neighbourhood_group\"]).agg(\n",
    "    count_col=pd.NamedAgg(column=\"host_id\", aggfunc=\"count\")\n",
    ").sort_values(by = \"count_col\", ascending = False).head(10)"
   ]
  },
  {
   "cell_type": "markdown",
   "id": "f6179790-bf9a-4a47-9c09-3e224ef57876",
   "metadata": {},
   "source": [
    "9 of the 10 NYC AirBnB hosts have their listings in Manhattan."
   ]
  }
 ],
 "metadata": {
  "kernelspec": {
   "display_name": "Python 3 (ipykernel)",
   "language": "python",
   "name": "python3"
  },
  "language_info": {
   "codemirror_mode": {
    "name": "ipython",
    "version": 3
   },
   "file_extension": ".py",
   "mimetype": "text/x-python",
   "name": "python",
   "nbconvert_exporter": "python",
   "pygments_lexer": "ipython3",
   "version": "3.11.7"
  }
 },
 "nbformat": 4,
 "nbformat_minor": 5
}
